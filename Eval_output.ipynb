{
 "cells": [
  {
   "cell_type": "code",
   "execution_count": 1,
   "id": "f4cacc8f-136f-4112-917a-61635e81c976",
   "metadata": {},
   "outputs": [],
   "source": [
    "import matplotlib.pylab as plt"
   ]
  },
  {
   "cell_type": "code",
   "execution_count": null,
   "id": "60e094d0-d020-4e28-bad4-ecce29aa3336",
   "metadata": {},
   "outputs": [],
   "source": [
    "plt.imread('demo/1.jpg').shape"
   ]
  },
  {
   "cell_type": "code",
   "execution_count": null,
   "id": "5d27dfd5-240f-4f63-aef8-6b4a4900be7a",
   "metadata": {},
   "outputs": [],
   "source": []
  },
  {
   "cell_type": "code",
   "execution_count": 2,
   "id": "3c01b668-363e-4cbd-a72d-50eacf4493e8",
   "metadata": {},
   "outputs": [
    {
     "name": "stderr",
     "output_type": "stream",
     "text": [
      "/home/sk/SSD-pytorch/src/process.py:2: TqdmExperimentalWarning: Using `tqdm.autonotebook.tqdm` in notebook mode. Use `tqdm.tqdm` instead to force console mode (e.g. in jupyter console)\n",
      "  from tqdm.autonotebook import tqdm\n",
      "/home/sk/.local/lib/python3.10/site-packages/numpy/core/getlimits.py:549: UserWarning: The value of the smallest subnormal for <class 'numpy.float64'> type is zero.\n",
      "  setattr(self, word, getattr(machar, word).flat[0])\n",
      "/home/sk/.local/lib/python3.10/site-packages/numpy/core/getlimits.py:89: UserWarning: The value of the smallest subnormal for <class 'numpy.float64'> type is zero.\n",
      "  return self._float_to_str(self.smallest_subnormal)\n",
      "/home/sk/.local/lib/python3.10/site-packages/numpy/core/getlimits.py:549: UserWarning: The value of the smallest subnormal for <class 'numpy.float32'> type is zero.\n",
      "  setattr(self, word, getattr(machar, word).flat[0])\n",
      "/home/sk/.local/lib/python3.10/site-packages/numpy/core/getlimits.py:89: UserWarning: The value of the smallest subnormal for <class 'numpy.float32'> type is zero.\n",
      "  return self._float_to_str(self.smallest_subnormal)\n"
     ]
    }
   ],
   "source": [
    "import os\n",
    "import numpy as np\n",
    "import argparse\n",
    "import torch\n",
    "# from src.dataset import CocoDataset\n",
    "from src.transform import SSDTransformer\n",
    "import cv2\n",
    "import shutil\n",
    "\n",
    "from src.utils import generate_dboxes, Encoder, colors\n",
    "from src.model import SSD, ResNet\n",
    "\n",
    "import src\n",
    "import albumentations as A"
   ]
  },
  {
   "cell_type": "code",
   "execution_count": 3,
   "id": "35bad21f-d111-4679-8cdd-e17df241fa2f",
   "metadata": {},
   "outputs": [],
   "source": [
    "import os\n",
    "import functools, fnmatch, itertools\n",
    "import pathlib\n",
    "def find_files(dir_path: str=None, patterns: [str]=None) -> [str]:\n",
    "    \"\"\"\n",
    "    Returns a generator yielding files matching the given patterns\n",
    "    :type dir_path: str\n",
    "    :type patterns: [str]\n",
    "    :rtype : [str]\n",
    "    :param dir_path: Directory to search for files/directories under. Defaults to current dir.\n",
    "    :param patterns: Patterns of files to search for. Defaults to [\"*\"]. Example: [\"*.json\", \"*.xml\"]\n",
    "    \"\"\"\n",
    "    path = dir_path or \".\"\n",
    "    path_patterns = patterns or [\"*\"]\n",
    "    fn = []\n",
    "    for root_dir, dir_names, file_names in os.walk(path):\n",
    "\n",
    "        filter_partial = functools.partial(fnmatch.filter, file_names)\n",
    "\n",
    "        for file_name in itertools.chain(*map(filter_partial, path_patterns)):\n",
    "             fn.append(pathlib.Path(os.path.join(root_dir, file_name)))\n",
    "\n",
    "    return sorted(fn)"
   ]
  },
  {
   "cell_type": "code",
   "execution_count": 4,
   "id": "3374067a-8ebb-4ba0-8027-ba4090b6cc33",
   "metadata": {},
   "outputs": [],
   "source": [
    "model = SSD(backbone=ResNet(), num_classes=2)"
   ]
  },
  {
   "cell_type": "code",
   "execution_count": 5,
   "id": "0a4ac1e3-65d2-48a6-9b19-c3452f53f23c",
   "metadata": {},
   "outputs": [],
   "source": [
    "checkpoint = torch.load('trained_models/Invivo_heavy_aug_train/best_SSD_Invivo_heavy_aug_train.pth')\n",
    "model.load_state_dict(checkpoint[\"model_state_dict\"])\n",
    "\n",
    "if torch.cuda.is_available():\n",
    "    model.cuda()\n",
    "model.eval()\n",
    "dboxes = generate_dboxes(model=\"ssd\")\n",
    "encoder = Encoder(dboxes)"
   ]
  },
  {
   "cell_type": "code",
   "execution_count": null,
   "id": "9903e673-2437-4937-b0b7-235eb93ec519",
   "metadata": {},
   "outputs": [],
   "source": [
    "# img_path = '/home/sk/Rewire_Image/Rewire_original_models/c-fos/test/'\n",
    "\n",
    "# img_path_list = find_files(img_path, ['*.jpg'])\n",
    "# target_path_list = find_files(img_path, ['*.json'])\n"
   ]
  },
  {
   "cell_type": "code",
   "execution_count": 6,
   "id": "8d35caf4-27ca-4b7c-b3fa-1328eccc3651",
   "metadata": {},
   "outputs": [],
   "source": [
    "\n",
    "Invivo_val_transform = A.Compose([\n",
    "    A.LongestMaxSize(300),\n",
    "    A.PadIfNeeded(300,300, border_mode=0)],\n",
    "    bbox_params=A.BboxParams(format='coco', min_area=15, min_visibility=0.1, label_fields=['class_labels']))\n"
   ]
  },
  {
   "cell_type": "code",
   "execution_count": 7,
   "id": "c2b8a918-a141-4381-874e-22c804656f4d",
   "metadata": {},
   "outputs": [],
   "source": [
    "train_path = '/home/sk/repo/FishCam/splitted_anno_0/'"
   ]
  },
  {
   "cell_type": "code",
   "execution_count": 13,
   "id": "db01e842-9f61-4c13-885d-6da8fafa6a6c",
   "metadata": {},
   "outputs": [
    {
     "name": "stdout",
     "output_type": "stream",
     "text": [
      "loading annotations into memory...\n",
      "Done (t=0.00s)\n",
      "creating index...\n",
      "index created!\n"
     ]
    }
   ],
   "source": [
    "train_set = src.coco_dataset.CocoTrainDataset(train_path, 'val', dboxes, img_aug = Invivo_val_transform)"
   ]
  },
  {
   "cell_type": "code",
   "execution_count": 10,
   "id": "d72b7474-b7ee-4f0b-8dc8-5d79af5387cb",
   "metadata": {},
   "outputs": [],
   "source": [
    "# self.train_set = src.coco_dataset.CocoTrainDataset(self.train_path, 'train', self.dboxes, img_aug = self.train_img_aug)\n",
    "# self.train_loader = DataLoader(self.train_set, batch_size = self.batch_size, shuffle = True, num_workers = self.num_workers)"
   ]
  },
  {
   "cell_type": "code",
   "execution_count": null,
   "id": "5bbdcc6f-23b5-43bb-90ad-fb19b4cae515",
   "metadata": {},
   "outputs": [],
   "source": []
  },
  {
   "cell_type": "code",
   "execution_count": 14,
   "id": "bde9e1a5-7672-48c7-b373-c61f90d0c390",
   "metadata": {},
   "outputs": [],
   "source": [
    "output_path = 'Invivo_heavy_aug_test'"
   ]
  },
  {
   "cell_type": "code",
   "execution_count": 15,
   "id": "fce1745d-1648-4d12-a010-69168e38f2d2",
   "metadata": {},
   "outputs": [],
   "source": [
    "if os.path.isdir(output_path):\n",
    "    shutil.rmtree(output_path)\n",
    "os.makedirs(output_path)"
   ]
  },
  {
   "cell_type": "code",
   "execution_count": 16,
   "id": "b819c199-b8bf-40f1-8863-cd08f57f4e6e",
   "metadata": {},
   "outputs": [],
   "source": [
    "nms_threshold = 0.2\n",
    "cls_threshold = 0.001"
   ]
  },
  {
   "cell_type": "code",
   "execution_count": 17,
   "id": "e05c528e-1fca-4510-80e9-1926e75d2914",
   "metadata": {
    "scrolled": true
   },
   "outputs": [],
   "source": [
    "for i, (img,  _, _) in enumerate(train_set):\n",
    "    if img is None:\n",
    "        continue\n",
    "    if torch.cuda.is_available():\n",
    "        img = img.cuda()\n",
    "    with torch.no_grad():\n",
    "        ploc, plabel = model(img.unsqueeze(dim=0))\n",
    "        result = encoder.decode_batch(ploc, plabel, nms_threshold, max_output= 30)[0]\n",
    "        loc, label, prob = [r.cpu().numpy() for r in result]\n",
    "        best = np.argwhere(prob > cls_threshold).squeeze(axis=1)\n",
    "        loc = loc[best]\n",
    "        label = label[best]\n",
    "        prob = prob[best]\n",
    "        # print(len(loc))\n",
    "        if len(loc) > 0:\n",
    "            np_img = img.permute(1, 2, 0).cpu().numpy()\n",
    "            opencv_img = cv2.cvtColor(cv2.normalize(np_img, None, 255, 0, cv2.NORM_MINMAX, cv2.CV_8U), cv2.COLOR_RGB2BGR)\n",
    "            # path = test_set.coco.loadImgs(img_id)[0][\"file_name\"]\n",
    "            height, width= np_img.shape[:2]\n",
    "            loc[:, 0::2] *= width\n",
    "            loc[:, 1::2] *= height\n",
    "            loc = loc.astype(np.int32)\n",
    "            \n",
    "            for box, lb, pr in zip(loc, label, prob):\n",
    "                category = 'Fish'\n",
    "                color = colors[lb]\n",
    "                xmin, ymin, xmax, ymax = box\n",
    "                opencv_img= cv2.rectangle(opencv_img, (xmin, ymin), (xmax, ymax), color, 1)\n",
    "                # text_size = cv2.getTextSize(category + \" : %.2f\" % pr, cv2.FONT_HERSHEY_PLAIN, 0.01, 1)[0]\n",
    "                # cv2.rectangle(opencv_img, (xmin, ymin), (xmin + text_size[0] + 3, ymin + text_size[1] + 4), color, 1)\n",
    "                # cv2.putText(\n",
    "                #     opencv_img, category + \" : %.2f\" % pr,\n",
    "                #     (xmin, ymin + text_size[1] + 4), cv2.FONT_HERSHEY_PLAIN, 1,\n",
    "                #     (255, 255, 255), 1)\n",
    "            cv2.imwrite(\"{}/{}_prediction.jpg\".format(output_path, i), opencv_img)\n"
   ]
  },
  {
   "cell_type": "code",
   "execution_count": null,
   "id": "20102d93-a477-4db9-898e-cb4c96ebbca6",
   "metadata": {},
   "outputs": [],
   "source": [
    "category"
   ]
  },
  {
   "cell_type": "code",
   "execution_count": null,
   "id": "11db57b3-17c5-4354-9d0e-18f6c85b81c5",
   "metadata": {},
   "outputs": [],
   "source": [
    "plt.imshow(opencv_img)"
   ]
  },
  {
   "cell_type": "code",
   "execution_count": null,
   "id": "603641f1-5939-4db7-bfa3-ff47fce7061c",
   "metadata": {},
   "outputs": [],
   "source": []
  },
  {
   "cell_type": "code",
   "execution_count": null,
   "id": "8e80795b-9406-459c-947b-3ae5dc870268",
   "metadata": {},
   "outputs": [],
   "source": []
  },
  {
   "cell_type": "code",
   "execution_count": null,
   "id": "77ee88e6-4389-4f86-a5d7-3b50832206ef",
   "metadata": {},
   "outputs": [],
   "source": []
  },
  {
   "cell_type": "code",
   "execution_count": null,
   "id": "ccf1e71c-d5a1-4852-bbbb-a60be83dc0a5",
   "metadata": {},
   "outputs": [],
   "source": []
  },
  {
   "cell_type": "code",
   "execution_count": null,
   "id": "354eb617-c5e5-4bfc-960f-2cfc179f1618",
   "metadata": {},
   "outputs": [],
   "source": []
  },
  {
   "cell_type": "code",
   "execution_count": null,
   "id": "7bddaeac-4f03-4d66-91ad-91a5ed97e2ed",
   "metadata": {},
   "outputs": [],
   "source": [
    "import torch.nn.functional as F\n",
    "from torchvision.ops.boxes import box_iou, box_convert\n"
   ]
  },
  {
   "cell_type": "code",
   "execution_count": null,
   "id": "975be05e-64bf-45a0-87d0-eff09bc0e44b",
   "metadata": {},
   "outputs": [],
   "source": [
    "ploc, plabel = model(img.unsqueeze(dim=0))\n",
    "bboxes, probs = encoder.scale_back_batch(ploc, plabel)\n",
    "output = []\n",
    "for bbox, prob in zip(bboxes.split(1, 0), probs.split(1, 0)):\n",
    "    bbox = bbox.squeeze(0)\n",
    "    prob = prob.squeeze(0)\n",
    "    print(decode_single(bbox, prob, 0.5, max_output=100))\n",
    "    break"
   ]
  },
  {
   "cell_type": "code",
   "execution_count": null,
   "id": "5f654a3d-6aba-41cd-96e8-a1fd5abd295c",
   "metadata": {},
   "outputs": [],
   "source": [
    "bbox[1, :][mask, :]"
   ]
  },
  {
   "cell_type": "code",
   "execution_count": null,
   "id": "282c4198-352d-4927-847e-0363b040875b",
   "metadata": {},
   "outputs": [],
   "source": [
    "bboxes_out = []\n",
    "scores_out = []\n",
    "labels_out = []\n",
    "\n",
    "for i, score in enumerate(scores_in):\n",
    "    # if i == 0:\n",
    "    #     continue\n",
    "    # print(score)\n",
    "    # score = score.squeeze(1)\n",
    "    # mask = score > 0.003\n",
    "    # print(mask)\n",
    "    # # bboxes, score = bboxes_in[mask, :], score[mask]\n",
    "    # bboxes, score = bbox[mask, :], score[mask]\n",
    "    # if score.size(0) == 0: continue\n",
    "\n",
    "    # score_sorted, score_idx_sorted = score.sort(dim=0)\n",
    "\n",
    "    # # select max_output indices\n",
    "    # score_idx_sorted = score_idx_sorted[-max_num:]\n",
    "    # candidates = []\n",
    "\n",
    "    # while score_idx_sorted.numel() > 0:\n",
    "    #     idx = score_idx_sorted[-1].item()\n",
    "    #     bboxes_sorted = bboxes[score_idx_sorted, :]\n",
    "    #     bboxes_idx = bboxes[idx, :].unsqueeze(dim=0)\n",
    "    #     iou_sorted = box_iou(bboxes_sorted, bboxes_idx).squeeze()\n",
    "    #     # we only need iou < nms_threshold\n",
    "    #     score_idx_sorted = score_idx_sorted[iou_sorted < nms_threshold]\n",
    "    #     candidates.append(idx)\n",
    "\n",
    "    # bboxes_out.append(bboxes[candidates, :])\n",
    "    # scores_out.append(score[candidates])\n",
    "    # labels_out.extend([i] * len(candidates))"
   ]
  },
  {
   "cell_type": "code",
   "execution_count": null,
   "id": "a66109b4-f8a0-4407-8451-b551158cb4b6",
   "metadata": {},
   "outputs": [],
   "source": [
    "for i, score in enumerate(prob):\n",
    "    print(score)\n",
    "    mask = score > 0.003\n",
    "    bboxes_, score_ = bbox[mask, :], score[mask]"
   ]
  },
  {
   "cell_type": "code",
   "execution_count": null,
   "id": "f431a065-1e68-4f48-a479-4d59eabd73fd",
   "metadata": {},
   "outputs": [],
   "source": [
    "score_.size(0)"
   ]
  },
  {
   "cell_type": "code",
   "execution_count": null,
   "id": "a5a2a41a-8cf9-4036-b58c-037660162e8f",
   "metadata": {},
   "outputs": [],
   "source": [
    "score_.sort(dim=0)"
   ]
  },
  {
   "cell_type": "code",
   "execution_count": null,
   "id": "7b3382d1-deac-432b-8dad-fff05c0376b1",
   "metadata": {},
   "outputs": [],
   "source": [
    "mask"
   ]
  },
  {
   "cell_type": "code",
   "execution_count": null,
   "id": "09c63c80-83f9-4d3b-a5fc-9bc3355c0983",
   "metadata": {},
   "outputs": [],
   "source": [
    "score.shape"
   ]
  },
  {
   "cell_type": "code",
   "execution_count": null,
   "id": "17bd3b1a-7ebd-4b33-a252-24225d883937",
   "metadata": {},
   "outputs": [],
   "source": [
    "prob.shape"
   ]
  },
  {
   "cell_type": "code",
   "execution_count": null,
   "id": "63be4ca8-7938-45ce-a38e-686c8ec33526",
   "metadata": {},
   "outputs": [],
   "source": [
    "for i, score in enumerate(prob.split(1, 1)):\n",
    "    if i == 0:\n",
    "        continue\n",
    "    print(score)\n",
    "    break"
   ]
  },
  {
   "cell_type": "code",
   "execution_count": null,
   "id": "b17de76f-ba03-45b0-a2c2-50a9021fbb3b",
   "metadata": {},
   "outputs": [],
   "source": [
    "mask = score.squeeze(1) > 0.05\n"
   ]
  },
  {
   "cell_type": "code",
   "execution_count": null,
   "id": "e44f8f3f-d03d-420c-bfac-1657a5e96e41",
   "metadata": {},
   "outputs": [],
   "source": [
    "bbox.shape"
   ]
  },
  {
   "cell_type": "code",
   "execution_count": null,
   "id": "8ab1f6ac-2abd-4ecb-8877-428b102e9231",
   "metadata": {},
   "outputs": [],
   "source": [
    "mask"
   ]
  },
  {
   "cell_type": "code",
   "execution_count": null,
   "id": "5e0b2bb9-2df8-40d9-9add-456dabde1626",
   "metadata": {},
   "outputs": [],
   "source": []
  },
  {
   "cell_type": "code",
   "execution_count": null,
   "id": "3e76af89-ddd6-420d-8e5c-5ba237777908",
   "metadata": {},
   "outputs": [],
   "source": [
    "bbox.shape"
   ]
  },
  {
   "cell_type": "code",
   "execution_count": null,
   "id": "56d03ded-6683-4cac-b0e1-f026b130defd",
   "metadata": {},
   "outputs": [],
   "source": [
    "bboxes.shape"
   ]
  },
  {
   "cell_type": "code",
   "execution_count": null,
   "id": "2bbaf958-ad7e-4b82-bbb9-ad036d16c482",
   "metadata": {},
   "outputs": [],
   "source": [
    "mask = prob.squeeze(1) > 0.003"
   ]
  },
  {
   "cell_type": "code",
   "execution_count": null,
   "id": "3e79cd06-2ecd-4671-b1c4-614a776a4534",
   "metadata": {},
   "outputs": [],
   "source": [
    "mask.shape"
   ]
  },
  {
   "cell_type": "code",
   "execution_count": null,
   "id": "5f142093-6781-4dc7-85d9-1e24b222cc44",
   "metadata": {},
   "outputs": [],
   "source": [
    "torch.sum(mask[0,:])"
   ]
  },
  {
   "cell_type": "code",
   "execution_count": null,
   "id": "0dd9556f-a947-4486-a254-4a77af9147ee",
   "metadata": {},
   "outputs": [],
   "source": [
    "mask[0,:]"
   ]
  },
  {
   "cell_type": "code",
   "execution_count": null,
   "id": "c278cc2c-5f5a-4203-a047-5b7244096c18",
   "metadata": {},
   "outputs": [],
   "source": [
    "bbox[mask[0,:], :]"
   ]
  },
  {
   "cell_type": "code",
   "execution_count": null,
   "id": "a82f7e48-d327-4425-80b4-a54392fe567e",
   "metadata": {},
   "outputs": [],
   "source": []
  },
  {
   "cell_type": "code",
   "execution_count": null,
   "id": "cb4c983b-5871-4fad-b721-389e82ebb4e1",
   "metadata": {},
   "outputs": [],
   "source": [
    "for a,b in zip(bboxes, probs):\n",
    "    print(a.shape,b.shape)\n",
    "    break"
   ]
  },
  {
   "cell_type": "code",
   "execution_count": null,
   "id": "7f3fed18-9d72-40f1-9c06-fef2a7810bfb",
   "metadata": {},
   "outputs": [],
   "source": [
    "a.shape"
   ]
  },
  {
   "cell_type": "code",
   "execution_count": null,
   "id": "603002ea-489e-4e43-90ad-ebbbd4dec019",
   "metadata": {},
   "outputs": [],
   "source": [
    "b.shape"
   ]
  },
  {
   "cell_type": "code",
   "execution_count": null,
   "id": "df0077a0-8c58-4cf8-ad1d-55159317235f",
   "metadata": {},
   "outputs": [],
   "source": []
  },
  {
   "cell_type": "code",
   "execution_count": null,
   "id": "ade257e7-1bb4-4445-8110-ea0c217a1627",
   "metadata": {},
   "outputs": [],
   "source": [
    "plabel"
   ]
  },
  {
   "cell_type": "code",
   "execution_count": null,
   "id": "3d486bc2-a8d4-4e59-818c-3c7cb9a676a0",
   "metadata": {},
   "outputs": [],
   "source": [
    "mask = prob > 0.0001"
   ]
  },
  {
   "cell_type": "code",
   "execution_count": null,
   "id": "536998f6-d986-42de-90e0-8670e8be960f",
   "metadata": {},
   "outputs": [],
   "source": [
    "mask.shape"
   ]
  },
  {
   "cell_type": "code",
   "execution_count": null,
   "id": "1fcbba8f-c45c-418e-945a-73a910537745",
   "metadata": {},
   "outputs": [],
   "source": [
    "bboxes.shape"
   ]
  },
  {
   "cell_type": "code",
   "execution_count": null,
   "id": "85bf7507-a865-493b-9771-811d56b8b30b",
   "metadata": {},
   "outputs": [],
   "source": [
    "bboxes[mask, :]"
   ]
  },
  {
   "cell_type": "code",
   "execution_count": null,
   "id": "dbdc92c1-1f6c-44a7-aced-05cf84c9e82a",
   "metadata": {},
   "outputs": [],
   "source": []
  },
  {
   "cell_type": "code",
   "execution_count": null,
   "id": "7583cc8c-6991-4af7-9a01-51bfff9a97c5",
   "metadata": {},
   "outputs": [],
   "source": [
    "for i, score in enumerate(prob.split(1,1)):\n",
    "    print(score.squeeze(1) )"
   ]
  },
  {
   "cell_type": "code",
   "execution_count": null,
   "id": "3aee8ff0-b694-434d-a430-7085e06e4022",
   "metadata": {},
   "outputs": [],
   "source": []
  },
  {
   "cell_type": "code",
   "execution_count": null,
   "id": "dd7892e5-2eaa-45ee-911b-cd768b6193e8",
   "metadata": {},
   "outputs": [],
   "source": []
  },
  {
   "cell_type": "code",
   "execution_count": null,
   "id": "4a57b737-0af1-4cc8-814c-f86d2c493998",
   "metadata": {},
   "outputs": [],
   "source": [
    "def scale_back_batch(self, bboxes_in, scores_in):\n",
    "    \"\"\"\n",
    "        Do scale and transform from xywh to ltrb\n",
    "        suppose input Nx4xnum_bbox Nxlabel_numxnum_bbox\n",
    "    \"\"\"\n",
    "    \n",
    "    self.dboxes = self.dboxes.to(self.device)\n",
    "    self.dboxes_xywh = self.dboxes_xywh.to(self.device)\n",
    "\n",
    "    bboxes_in = bboxes_in.permute(0, 2, 1)\n",
    "    # scores_in = scores_in.permute(0, 2, 1)\n",
    "\n",
    "    bboxes_in[:, :, :2] = self.scale_xy * bboxes_in[:, :, :2]\n",
    "    bboxes_in[:, :, 2:] = self.scale_wh * bboxes_in[:, :, 2:]\n",
    "\n",
    "    bboxes_in[:, :, :2] = bboxes_in[:, :, :2] * self.dboxes_xywh[:, :, 2:] + self.dboxes_xywh[:, :, :2]\n",
    "    bboxes_in[:, :, 2:] = bboxes_in[:, :, 2:].exp() * self.dboxes_xywh[:, :, 2:]\n",
    "    bboxes_in = box_convert(bboxes_in, in_fmt=\"cxcywh\", out_fmt=\"xyxy\")\n",
    "\n",
    "    return bboxes_in, F.softmax(scores_in, dim=-1)"
   ]
  },
  {
   "cell_type": "code",
   "execution_count": null,
   "id": "36416dfd-9c11-460b-9e29-b060e19f28d9",
   "metadata": {},
   "outputs": [],
   "source": [
    "probs"
   ]
  },
  {
   "cell_type": "code",
   "execution_count": null,
   "id": "823790d8-5df2-4a01-8c41-e60d5f243edf",
   "metadata": {},
   "outputs": [],
   "source": [
    "\n"
   ]
  },
  {
   "cell_type": "code",
   "execution_count": null,
   "id": "01510923-eb48-447f-a7a0-86391dde5e8a",
   "metadata": {},
   "outputs": [],
   "source": [
    "\n",
    "t_p = F.softmax(plabel, dim=-1) > 0.001"
   ]
  },
  {
   "cell_type": "code",
   "execution_count": null,
   "id": "02a4a8d4-1cf7-4c5c-9a5c-b40d0d254862",
   "metadata": {},
   "outputs": [],
   "source": [
    "t_p.sum()"
   ]
  },
  {
   "cell_type": "code",
   "execution_count": null,
   "id": "14506ce2-687b-4bbc-8ad4-d7ded6ac8f4e",
   "metadata": {},
   "outputs": [],
   "source": []
  },
  {
   "cell_type": "code",
   "execution_count": null,
   "id": "8a1723c0-6f46-4772-9dcd-b49a93c19586",
   "metadata": {},
   "outputs": [],
   "source": [
    "encoder.scale_wh"
   ]
  },
  {
   "cell_type": "code",
   "execution_count": null,
   "id": "992640c0-9caf-481e-9bf1-d69e483b7cea",
   "metadata": {},
   "outputs": [],
   "source": [
    "encoder.dboxes"
   ]
  },
  {
   "cell_type": "code",
   "execution_count": null,
   "id": "46e2663d-d8d0-4665-843d-180e28acb7ad",
   "metadata": {},
   "outputs": [],
   "source": [
    "encoder.dboxes_xywh"
   ]
  },
  {
   "cell_type": "code",
   "execution_count": null,
   "id": "0b95193e-15e4-414c-9ba9-15698f5041c8",
   "metadata": {
    "scrolled": true
   },
   "outputs": [],
   "source": [
    "bbox"
   ]
  },
  {
   "cell_type": "code",
   "execution_count": null,
   "id": "26fc4fbd-0354-4ef5-a8e1-588f7f25482f",
   "metadata": {},
   "outputs": [],
   "source": [
    "plabel"
   ]
  },
  {
   "cell_type": "code",
   "execution_count": null,
   "id": "4e9dbe8c-7891-496e-bd53-d2891451b0f5",
   "metadata": {},
   "outputs": [],
   "source": [
    "prob"
   ]
  },
  {
   "cell_type": "code",
   "execution_count": null,
   "id": "c4fd096f-daa4-4870-8168-99eecedc5ed4",
   "metadata": {},
   "outputs": [],
   "source": [
    "prob.shape"
   ]
  },
  {
   "cell_type": "code",
   "execution_count": null,
   "id": "7f25a84a-8f23-445a-b876-695d25153981",
   "metadata": {},
   "outputs": [],
   "source": [
    "encoder.decode_single(ploc.permute(0, 2, 1)[0, 0, :], plabel.permute(0, 2, 1)[0, 0, :], 0.05, max_output=100)"
   ]
  },
  {
   "cell_type": "code",
   "execution_count": null,
   "id": "fc80e278-518d-45e1-afc3-50979486357e",
   "metadata": {},
   "outputs": [],
   "source": []
  },
  {
   "cell_type": "code",
   "execution_count": null,
   "id": "32270a78-3a80-4d72-820e-d9cab84a6b55",
   "metadata": {},
   "outputs": [],
   "source": [
    "encoder.decode_batch(ploc, plabel, 100, max_output= 10000)[0]"
   ]
  },
  {
   "cell_type": "code",
   "execution_count": null,
   "id": "31170277-106b-40a8-9691-9d8e16892ff9",
   "metadata": {},
   "outputs": [],
   "source": [
    "for r in result:\n",
    "    print(r)"
   ]
  },
  {
   "cell_type": "code",
   "execution_count": null,
   "id": "ac37f757-d98d-4318-8301-73df5720b397",
   "metadata": {},
   "outputs": [],
   "source": [
    "ploc.shape"
   ]
  },
  {
   "cell_type": "code",
   "execution_count": null,
   "id": "c71e0710-cbf8-47c1-b9df-0c5fadb1afa3",
   "metadata": {},
   "outputs": [],
   "source": [
    "ploc.permute(0,2,1).shape"
   ]
  },
  {
   "cell_type": "code",
   "execution_count": null,
   "id": "d12c87c0-28f5-49b6-8e8d-8b4f8c08b076",
   "metadata": {},
   "outputs": [],
   "source": [
    "bboxes_in.permute(0, 2, 1)"
   ]
  },
  {
   "cell_type": "code",
   "execution_count": null,
   "id": "6d72d580-b473-400d-a6a0-d001c0dadffa",
   "metadata": {},
   "outputs": [],
   "source": [
    "plabel"
   ]
  },
  {
   "cell_type": "code",
   "execution_count": null,
   "id": "08efe132-2263-4c5b-be08-f6c8f7bee1a2",
   "metadata": {},
   "outputs": [],
   "source": [
    "import matplotlib.pylab as plt"
   ]
  },
  {
   "cell_type": "code",
   "execution_count": null,
   "id": "07f592da-b4b2-4d36-8dff-d1dd086c1a46",
   "metadata": {},
   "outputs": [],
   "source": [
    "img.permute(1, 2, 0).cpu().numpy().shape[:2]"
   ]
  },
  {
   "cell_type": "code",
   "execution_count": null,
   "id": "1027a7e4-d169-479a-a415-e2cec800e7ce",
   "metadata": {},
   "outputs": [],
   "source": [
    "(plabel > 0.1).sum()"
   ]
  },
  {
   "cell_type": "code",
   "execution_count": null,
   "id": "7d1af9df-8897-4d85-b756-6ad1f55be832",
   "metadata": {},
   "outputs": [],
   "source": []
  },
  {
   "cell_type": "code",
   "execution_count": null,
   "id": "3f548027-e29b-4b8d-8792-2bc3ddb0cd6e",
   "metadata": {},
   "outputs": [],
   "source": []
  },
  {
   "cell_type": "code",
   "execution_count": null,
   "id": "94a5725e-5542-4b2f-8bab-2bce7e916a57",
   "metadata": {},
   "outputs": [],
   "source": [
    "\n",
    "# test_set = CocoDataset(opt.data_path, 2017, \"val\", SSDTransformer(dboxes, (300, 300), val=True))\n",
    "\n",
    "\n",
    "# if os.path.isdir(opt.output):\n",
    "#     shutil.rmtree(opt.output)\n",
    "# os.makedirs(opt.output)\n",
    "\n",
    "for img, img_id, img_size, _, _ in test_set:\n",
    "    if img is None:\n",
    "        continue\n",
    "    if torch.cuda.is_available():\n",
    "        img = img.cuda()\n",
    "    with torch.no_grad():\n",
    "        ploc, plabel = model(img.unsqueeze(dim=0))\n",
    "        result = encoder.decode_batch(ploc, plabel, opt.nms_threshold, 20)[0]\n",
    "        loc, label, prob = [r.cpu().numpy() for r in result]\n",
    "        best = np.argwhere(prob > opt.cls_threshold).squeeze(axis=1)\n",
    "        loc = loc[best]\n",
    "        label = label[best]\n",
    "        prob = prob[best]\n",
    "        if len(loc) > 0:\n",
    "            path = test_set.coco.loadImgs(img_id)[0][\"file_name\"]\n",
    "            output_img = cv2.imread(os.path.join(opt.data_path, \"val2017\", path))\n",
    "            height, width, _ = output_img.shape\n",
    "            loc[:, 0::2] *= width\n",
    "            loc[:, 1::2] *= height\n",
    "            loc = loc.astype(np.int32)\n",
    "            for box, lb, pr in zip(loc, label, prob):\n",
    "                category = test_set.label_info[lb]\n",
    "                color = colors[lb]\n",
    "                xmin, ymin, xmax, ymax = box\n",
    "                cv2.rectangle(output_img, (xmin, ymin), (xmax, ymax), color, 2)\n",
    "                text_size = cv2.getTextSize(category + \" : %.2f\" % pr, cv2.FONT_HERSHEY_PLAIN, 1, 1)[0]\n",
    "                cv2.rectangle(output_img, (xmin, ymin), (xmin + text_size[0] + 3, ymin + text_size[1] + 4), color,\n",
    "                              -1)\n",
    "                cv2.putText(\n",
    "                    output_img, category + \" : %.2f\" % pr,\n",
    "                    (xmin, ymin + text_size[1] + 4), cv2.FONT_HERSHEY_PLAIN, 1,\n",
    "                    (255, 255, 255), 1)\n",
    "                cv2.imwrite(\"{}/{}_prediction.jpg\".format(opt.output, path[:-4]), output_img)\n"
   ]
  },
  {
   "cell_type": "code",
   "execution_count": null,
   "id": "e9544ca9-bbd2-4fd0-9595-c189f0ab6fc8",
   "metadata": {},
   "outputs": [],
   "source": []
  },
  {
   "cell_type": "code",
   "execution_count": null,
   "id": "99a5e5c6-ff95-494b-aa48-8e2b271b37dd",
   "metadata": {},
   "outputs": [],
   "source": [
    "\n",
    "def get_args():\n",
    "    parser = argparse.ArgumentParser(\"Implementation of SSD\")\n",
    "    parser.add_argument(\"--data-path\", type=str, default=\"/coco\", help=\"the root folder of dataset\")\n",
    "    parser.add_argument(\"--cls-threshold\", type=float, default=0.5)\n",
    "    parser.add_argument(\"--nms-threshold\", type=float, default=0.5)\n",
    "    parser.add_argument(\"--pretrained-model\", type=str, default=\"trained_models/SSD.pth\")\n",
    "    parser.add_argument(\"--output\", type=str, default=\"predictions\")\n",
    "    args = parser.parse_args()\n",
    "    return args\n",
    "\n",
    "\n",
    "def test(opt):\n"
   ]
  }
 ],
 "metadata": {
  "kernelspec": {
   "display_name": "local_python",
   "language": "python",
   "name": "local_python"
  },
  "language_info": {
   "codemirror_mode": {
    "name": "ipython",
    "version": 3
   },
   "file_extension": ".py",
   "mimetype": "text/x-python",
   "name": "python",
   "nbconvert_exporter": "python",
   "pygments_lexer": "ipython3",
   "version": "3.10.12"
  }
 },
 "nbformat": 4,
 "nbformat_minor": 5
}
